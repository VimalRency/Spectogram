{
  "nbformat": 4,
  "nbformat_minor": 0,
  "metadata": {
    "colab": {
      "provenance": [],
      "authorship_tag": "ABX9TyMEBBLXkNY3JbZWO+eQ9omK",
      "include_colab_link": true
    },
    "kernelspec": {
      "name": "python3",
      "display_name": "Python 3"
    },
    "language_info": {
      "name": "python"
    }
  },
  "cells": [
    {
      "cell_type": "markdown",
      "metadata": {
        "id": "view-in-github",
        "colab_type": "text"
      },
      "source": [
        "<a href=\"https://colab.research.google.com/github/VimalRency/Spectogram/blob/main/classification_of_spectrogram_1.ipynb\" target=\"_parent\"><img src=\"https://colab.research.google.com/assets/colab-badge.svg\" alt=\"Open In Colab\"/></a>"
      ]
    },
    {
      "cell_type": "code",
      "execution_count": 3,
      "metadata": {
        "colab": {
          "base_uri": "https://localhost:8080/"
        },
        "id": "Q6ZbXumn36r3",
        "outputId": "2422cbef-eb96-40b7-82b9-c3fa9499359f"
      },
      "outputs": [
        {
          "output_type": "stream",
          "name": "stdout",
          "text": [
            "Requirement already satisfied: librosa in /usr/local/lib/python3.10/dist-packages (0.10.2.post1)\n",
            "Requirement already satisfied: audioread>=2.1.9 in /usr/local/lib/python3.10/dist-packages (from librosa) (3.0.1)\n",
            "Requirement already satisfied: numpy!=1.22.0,!=1.22.1,!=1.22.2,>=1.20.3 in /usr/local/lib/python3.10/dist-packages (from librosa) (1.25.2)\n",
            "Requirement already satisfied: scipy>=1.2.0 in /usr/local/lib/python3.10/dist-packages (from librosa) (1.11.4)\n",
            "Requirement already satisfied: scikit-learn>=0.20.0 in /usr/local/lib/python3.10/dist-packages (from librosa) (1.2.2)\n",
            "Requirement already satisfied: joblib>=0.14 in /usr/local/lib/python3.10/dist-packages (from librosa) (1.4.2)\n",
            "Requirement already satisfied: decorator>=4.3.0 in /usr/local/lib/python3.10/dist-packages (from librosa) (4.4.2)\n",
            "Requirement already satisfied: numba>=0.51.0 in /usr/local/lib/python3.10/dist-packages (from librosa) (0.58.1)\n",
            "Requirement already satisfied: soundfile>=0.12.1 in /usr/local/lib/python3.10/dist-packages (from librosa) (0.12.1)\n",
            "Requirement already satisfied: pooch>=1.1 in /usr/local/lib/python3.10/dist-packages (from librosa) (1.8.2)\n",
            "Requirement already satisfied: soxr>=0.3.2 in /usr/local/lib/python3.10/dist-packages (from librosa) (0.3.7)\n",
            "Requirement already satisfied: typing-extensions>=4.1.1 in /usr/local/lib/python3.10/dist-packages (from librosa) (4.12.2)\n",
            "Requirement already satisfied: lazy-loader>=0.1 in /usr/local/lib/python3.10/dist-packages (from librosa) (0.4)\n",
            "Requirement already satisfied: msgpack>=1.0 in /usr/local/lib/python3.10/dist-packages (from librosa) (1.0.8)\n",
            "Requirement already satisfied: packaging in /usr/local/lib/python3.10/dist-packages (from lazy-loader>=0.1->librosa) (24.1)\n",
            "Requirement already satisfied: llvmlite<0.42,>=0.41.0dev0 in /usr/local/lib/python3.10/dist-packages (from numba>=0.51.0->librosa) (0.41.1)\n",
            "Requirement already satisfied: platformdirs>=2.5.0 in /usr/local/lib/python3.10/dist-packages (from pooch>=1.1->librosa) (4.2.2)\n",
            "Requirement already satisfied: requests>=2.19.0 in /usr/local/lib/python3.10/dist-packages (from pooch>=1.1->librosa) (2.31.0)\n",
            "Requirement already satisfied: threadpoolctl>=2.0.0 in /usr/local/lib/python3.10/dist-packages (from scikit-learn>=0.20.0->librosa) (3.5.0)\n",
            "Requirement already satisfied: cffi>=1.0 in /usr/local/lib/python3.10/dist-packages (from soundfile>=0.12.1->librosa) (1.16.0)\n",
            "Requirement already satisfied: pycparser in /usr/local/lib/python3.10/dist-packages (from cffi>=1.0->soundfile>=0.12.1->librosa) (2.22)\n",
            "Requirement already satisfied: charset-normalizer<4,>=2 in /usr/local/lib/python3.10/dist-packages (from requests>=2.19.0->pooch>=1.1->librosa) (3.3.2)\n",
            "Requirement already satisfied: idna<4,>=2.5 in /usr/local/lib/python3.10/dist-packages (from requests>=2.19.0->pooch>=1.1->librosa) (3.7)\n",
            "Requirement already satisfied: urllib3<3,>=1.21.1 in /usr/local/lib/python3.10/dist-packages (from requests>=2.19.0->pooch>=1.1->librosa) (2.0.7)\n",
            "Requirement already satisfied: certifi>=2017.4.17 in /usr/local/lib/python3.10/dist-packages (from requests>=2.19.0->pooch>=1.1->librosa) (2024.6.2)\n"
          ]
        }
      ],
      "source": [
        "pip install librosa\n"
      ]
    },
    {
      "cell_type": "code",
      "source": [
        "pip install soundfile"
      ],
      "metadata": {
        "colab": {
          "base_uri": "https://localhost:8080/"
        },
        "id": "3cwWnFsB4SlC",
        "outputId": "ecd15ec0-5647-4ea8-d748-d29e978431dc"
      },
      "execution_count": 4,
      "outputs": [
        {
          "output_type": "stream",
          "name": "stdout",
          "text": [
            "Requirement already satisfied: soundfile in /usr/local/lib/python3.10/dist-packages (0.12.1)\n",
            "Requirement already satisfied: cffi>=1.0 in /usr/local/lib/python3.10/dist-packages (from soundfile) (1.16.0)\n",
            "Requirement already satisfied: pycparser in /usr/local/lib/python3.10/dist-packages (from cffi>=1.0->soundfile) (2.22)\n"
          ]
        }
      ]
    },
    {
      "cell_type": "code",
      "source": [
        "from google.colab import drive\n",
        "drive.mount('/content/drive')\n"
      ],
      "metadata": {
        "colab": {
          "base_uri": "https://localhost:8080/"
        },
        "id": "ndnjfux94rO7",
        "outputId": "71ebb68f-4767-4971-c851-99dfee81abb4"
      },
      "execution_count": 5,
      "outputs": [
        {
          "output_type": "stream",
          "name": "stdout",
          "text": [
            "Mounted at /content/drive\n"
          ]
        }
      ]
    },
    {
      "cell_type": "code",
      "source": [
        "import os\n",
        "import numpy as np\n",
        "from tensorflow.keras.preprocessing.image import load_img, img_to_array\n",
        "\n",
        "# Function to load and preprocess spectrogram images\n",
        "def load_spectrogram_images(data_dir, img_size=(128, 128)):\n",
        "    features = []\n",
        "    labels = []\n",
        "\n",
        "    for root, _, files in os.walk(data_dir):\n",
        "        for file in files:\n",
        "            if file.endswith('.png'):\n",
        "                img_path = os.path.join(root, file)\n",
        "                try:\n",
        "                    img = load_img(img_path, target_size=img_size)\n",
        "                    img = img_to_array(img)\n",
        "                    img = np.mean(img, axis=2)  # Convert to grayscale by averaging channels\n",
        "                    features.append(img)\n",
        "                    labels.append(os.path.basename(root))  # Use directory name as label\n",
        "                    print(f\"Loaded image: {img_path}\")  # Debugging print\n",
        "                except Exception as e:\n",
        "                    print(f\"Error loading image {img_path}: {e}\")\n",
        "\n",
        "    features = np.array(features)\n",
        "    labels = np.array(labels)\n",
        "\n",
        "    print(f\"Total images loaded: {len(features)}\")  # Debugging print\n",
        "    print(f\"Features shape: {features.shape}\")  # Debugging print\n",
        "    print(f\"Labels shape: {labels.shape}\")  # Debugging print\n",
        "    return features, labels\n",
        "\n",
        "# Load and preprocess spectrogram images\n",
        "data_dir = '/content/drive/MyDrive/spec1'  # Update this path to your actual data directory\n",
        "img_size = (128, 128)\n",
        "X, y = load_spectrogram_images(data_dir, img_size=img_size)\n"
      ],
      "metadata": {
        "colab": {
          "base_uri": "https://localhost:8080/"
        },
        "id": "4Gg6gIQu_2Hc",
        "outputId": "8693405c-d095-4e99-d5a6-c64e64a758a1"
      },
      "execution_count": 28,
      "outputs": [
        {
          "output_type": "stream",
          "name": "stdout",
          "text": [
            "Loaded image: /content/drive/MyDrive/spec1/yes/gayathri.png\n",
            "Loaded image: /content/drive/MyDrive/spec1/yes/vimal.png\n",
            "Loaded image: /content/drive/MyDrive/spec1/yes/kathy.png\n",
            "Loaded image: /content/drive/MyDrive/spec1/yes/aish.png\n",
            "Loaded image: /content/drive/MyDrive/spec1/yes/carmel.png\n",
            "Loaded image: /content/drive/MyDrive/spec1/no/cno.png\n",
            "Loaded image: /content/drive/MyDrive/spec1/no/kno.png\n",
            "Loaded image: /content/drive/MyDrive/spec1/no/ano.png\n",
            "Loaded image: /content/drive/MyDrive/spec1/no/vno.png\n",
            "Loaded image: /content/drive/MyDrive/spec1/no/gno.png\n",
            "Total images loaded: 10\n",
            "Features shape: (10, 128, 128)\n",
            "Labels shape: (10,)\n"
          ]
        }
      ]
    },
    {
      "cell_type": "code",
      "source": [
        "from sklearn.preprocessing import LabelEncoder\n",
        "from sklearn.model_selection import train_test_split\n",
        "from sklearn.svm import SVC\n",
        "\n",
        "# Flatten the spectrogram images\n",
        "X_flattened = X.reshape(len(X), -1)\n",
        "\n",
        "# Encode class labels\n",
        "label_encoder = LabelEncoder()\n",
        "y_encoded = label_encoder.fit_transform(y)\n",
        "\n",
        "# Split data into training and testing sets\n",
        "X_train, X_test, y_train, y_test = train_test_split(X_flattened, y_encoded, test_size=0.2, random_state=42)\n",
        "\n",
        "# Train SVM\n",
        "svm_model = SVC(kernel='linear', C=1.0, random_state=42)\n",
        "svm_model.fit(X_train, y_train)\n",
        "\n",
        "# Debugging prints\n",
        "print(f\"Training data shape: {X_train.shape}\")\n",
        "print(f\"Testing data shape: {X_test.shape}\")\n",
        "print(f\"Number of classes: {len(label_encoder.classes_)}\")\n"
      ],
      "metadata": {
        "colab": {
          "base_uri": "https://localhost:8080/"
        },
        "id": "hlF37bHE_5UX",
        "outputId": "948b4260-8c1f-4242-a3a5-70a4ecb34f12"
      },
      "execution_count": 29,
      "outputs": [
        {
          "output_type": "stream",
          "name": "stdout",
          "text": [
            "Training data shape: (8, 16384)\n",
            "Testing data shape: (2, 16384)\n",
            "Number of classes: 2\n"
          ]
        }
      ]
    },
    {
      "cell_type": "code",
      "source": [
        "import librosa\n",
        "import soundfile as sf\n",
        "\n",
        "# Function to load and preprocess a single spectrogram image\n",
        "def load_and_preprocess_image(img_path, img_size=(128, 128)):\n",
        "    img = load_img(img_path, target_size=img_size)\n",
        "    img = img_to_array(img)\n",
        "    img = np.mean(img, axis=2)  # Convert to grayscale by averaging channels\n",
        "    return img\n",
        "\n",
        "# Function to predict class and reconstruct audio from spectrogram\n",
        "def predict_and_reconstruct(model, img_path, label_encoder, img_size=(128, 128), sr=22050):\n",
        "    # Load and preprocess the image\n",
        "    img = load_and_preprocess_image(img_path, img_size)\n",
        "\n",
        "    # Extract features (log power spectrogram)\n",
        "    log_power_spectrogram = np.log1p(np.abs(img))\n",
        "    log_power_spectrogram = log_power_spectrogram.flatten().reshape(1, -1)\n",
        "\n",
        "    # Debugging print\n",
        "    print(f\"Input features shape for prediction: {log_power_spectrogram.shape}\")\n",
        "\n",
        "    # Predict the class\n",
        "    predicted_class_index = model.predict(log_power_spectrogram)\n",
        "    predicted_class = label_encoder.inverse_transform(predicted_class_index)[0]\n",
        "\n",
        "    # Reconstruct the audio\n",
        "    power_spectrogram = np.expm1(log_power_spectrogram.reshape(img_size))\n",
        "\n",
        "    # Debugging: Check for non-finite values in the power spectrogram\n",
        "    if not np.isfinite(power_spectrogram).all():\n",
        "        print(\"Non-finite values found in power spectrogram!\")\n",
        "        power_spectrogram = np.nan_to_num(power_spectrogram)  # Replace non-finite values with zero\n",
        "        print(\"Non-finite values replaced with zero.\")\n",
        "\n",
        "    # Convert power spectrogram back to amplitude spectrogram\n",
        "    amplitude_spectrogram = np.sqrt(power_spectrogram)\n",
        "\n",
        "    # Inverse Short-Time Fourier Transform to get the time-domain signal\n",
        "    reconstructed_audio = librosa.istft(amplitude_spectrogram)\n",
        "\n",
        "    # Save the reconstructed audio to a file\n",
        "    output_audio_path = os.path.splitext(img_path)[0] + \"_reconstructed.wav\"\n",
        "    sf.write(output_audio_path, reconstructed_audio, sr)\n",
        "\n",
        "    return predicted_class, output_audio_path, reconstructed_audio\n",
        "\n",
        "# Example usage\n",
        "new_image_path = '/content/drive/MyDrive/spec2.png'  # Replace with your new image path\n",
        "if os.path.exists(new_image_path):\n",
        "    predicted_class, output_audio_path, reconstructed_audio = predict_and_reconstruct(\n",
        "        svm_model, new_image_path, label_encoder, img_size=img_size, sr=22050\n",
        "    )\n",
        "    print(f'Predicted Class: {predicted_class}')\n",
        "    print(f'Reconstructed Audio Path: {output_audio_path}')\n",
        "else:\n",
        "    print(f'File does not exist: {new_image_path}')\n"
      ],
      "metadata": {
        "colab": {
          "base_uri": "https://localhost:8080/"
        },
        "id": "ptvIcPC8ACxi",
        "outputId": "2b284803-985a-4604-a242-a6214f163740"
      },
      "execution_count": 30,
      "outputs": [
        {
          "output_type": "stream",
          "name": "stdout",
          "text": [
            "Input features shape for prediction: (1, 16384)\n",
            "Predicted Class: yes\n",
            "Reconstructed Audio Path: /content/drive/MyDrive/spec2_reconstructed.wav\n"
          ]
        }
      ]
    }
  ]
}