{
  "nbformat": 4,
  "nbformat_minor": 0,
  "metadata": {
    "colab": {
      "provenance": [],
      "authorship_tag": "ABX9TyO4awJCThpqqT4lfSEOc9jH",
      "include_colab_link": true
    },
    "kernelspec": {
      "name": "python3",
      "display_name": "Python 3"
    },
    "language_info": {
      "name": "python"
    }
  },
  "cells": [
    {
      "cell_type": "markdown",
      "metadata": {
        "id": "view-in-github",
        "colab_type": "text"
      },
      "source": [
        "<a href=\"https://colab.research.google.com/github/VimalRency/Spectogram/blob/main/classification.ipynb\" target=\"_parent\"><img src=\"https://colab.research.google.com/assets/colab-badge.svg\" alt=\"Open In Colab\"/></a>"
      ]
    },
    {
      "cell_type": "code",
      "execution_count": 2,
      "metadata": {
        "colab": {
          "base_uri": "https://localhost:8080/",
          "height": 1000
        },
        "id": "_Sl-BwyfYQtH",
        "outputId": "cd95860a-7144-46ee-d37e-ae881de06f9b"
      },
      "outputs": [
        {
          "output_type": "stream",
          "name": "stdout",
          "text": [
            "Drive already mounted at /content/drive; to attempt to forcibly remount, call drive.mount(\"/content/drive\", force_remount=True).\n"
          ]
        },
        {
          "output_type": "display_data",
          "data": {
            "text/plain": [
              "<PIL.Image.Image image mode=L size=1000x600>"
            ],
            "image/png": "[encoded data removed]"
          },
          "metadata": {}
        },
        {
          "output_type": "display_data",
          "data": {
            "text/plain": [
              "<PIL.Image.Image image mode=L size=1000x167>"
            ],
            "image/png": "[encoded data removed]"
          },
          "metadata": {}
        },
        {
          "output_type": "display_data",
          "data": {
            "text/plain": [
              "<PIL.Image.Image image mode=L size=200x167>"
            ],
            "image/png": "[encoded data removed]"
          },
          "metadata": {}
        },
        {
          "output_type": "display_data",
          "data": {
            "text/plain": [
              "<PIL.Image.Image image mode=L size=160x127>"
            ],
            "image/png": "[encoded data removed]"
          },
          "metadata": {}
        },
        {
          "output_type": "stream",
          "name": "stdout",
          "text": [
            "Number of white pixels in final cropped image: 181\n",
            "Prediction: Yes\n"
          ]
        }
      ],
      "source": [
        "import cv2\n",
        "import numpy as np\n",
        "from google.colab.patches import cv2_imshow\n",
        "from google.colab import drive\n",
        "drive.mount('/content/drive')\n",
        "\n",
        "def crop_center_of_frequency_range(image_path, freq_range=(2048, 8192), sr=44100, central_crop_size=(200, 200), edge_crop_size=(20, 20)):\n",
        "    # Load the image\n",
        "    img = cv2.imread(image_path)\n",
        "    graydata = cv2.cvtColor(img, cv2.COLOR_BGR2GRAY)\n",
        "\n",
        "    # Apply Otsu's threshold to create a binary image\n",
        "    _, binary_image = cv2.threshold(graydata, 130, 255, cv2.THRESH_BINARY )\n",
        "\n",
        "    # Define the maximum frequency range (e.g., Nyquist frequency)\n",
        "    max_freq = sr // 2\n",
        "    total_rows = graydata.shape[0]\n",
        "\n",
        "    # Calculate row indices for frequency range\n",
        "    freq_min_row = int((freq_range[0] / max_freq) * total_rows)\n",
        "    freq_max_row = int((freq_range[1] / max_freq) * total_rows)\n",
        "\n",
        "    # Ensure indices are within bounds\n",
        "    freq_min_row = max(freq_min_row, 0)\n",
        "    freq_max_row = min(freq_max_row, total_rows)\n",
        "\n",
        "    # Crop the image to the specified frequency range\n",
        "    cropped_image = binary_image[freq_min_row:freq_max_row, :]\n",
        "\n",
        "    # Get dimensions of the cropped image\n",
        "    cropped_height, cropped_width = cropped_image.shape\n",
        "\n",
        "    # Calculate central cropping coordinates\n",
        "    center_x, center_y = cropped_width // 2, cropped_height // 2\n",
        "    crop_width, crop_height = central_crop_size\n",
        "\n",
        "    x1 = max(center_x - crop_width // 2, 0)\n",
        "    x2 = min(center_x + crop_width // 2, cropped_width)\n",
        "    y1 = max(center_y - crop_height // 2, 0)\n",
        "    y2 = min(center_y + crop_height // 2, cropped_height)\n",
        "\n",
        "    # Crop the central part of the cropped image\n",
        "    central_cropped_image = cropped_image[y1:y2, x1:x2]\n",
        "\n",
        "    # Crop edges of the central cropped image\n",
        "    edge_crop_width, edge_crop_height = edge_crop_size\n",
        "    edge_x1 = max(x1 + edge_crop_width, 0)\n",
        "    edge_x2 = min(x2 - edge_crop_width, cropped_width)\n",
        "    edge_y1 = max(y1 + edge_crop_height, 0)\n",
        "    edge_y2 = min(y2 - edge_crop_height, cropped_height)\n",
        "\n",
        "    # Crop the central part of the central cropped image, removing the edges\n",
        "    final_cropped_image = central_cropped_image[\n",
        "        max(edge_y1 - y1, 0):min(edge_y2 - y1, crop_height),\n",
        "        max(edge_x1 - x1, 0):min(edge_x2 - x1, crop_width)\n",
        "    ]\n",
        "\n",
        "    # Display the original, cropped, and final cropped images\n",
        "    cv2_imshow(binary_image)\n",
        "    cv2_imshow(cropped_image)\n",
        "    cv2_imshow(central_cropped_image)\n",
        "    cv2_imshow(final_cropped_image)\n",
        "\n",
        "    # Check if the final cropped image is completely black\n",
        "    is_black_image = np.all(final_cropped_image == 0)\n",
        "\n",
        "    # Print for debugging\n",
        "    num_white_pixels = np.sum(final_cropped_image == 255)\n",
        "    print(f\"Number of white pixels in final cropped image: {num_white_pixels}\")\n",
        "\n",
        "    # Predict based on whether the final cropped image is completely black or not\n",
        "    if is_black_image:\n",
        "        prediction = 'No'\n",
        "    else:\n",
        "        prediction = 'Yes'\n",
        "\n",
        "    print(f\"Prediction: {prediction}\")\n",
        "\n",
        "# Use the function with your image path and adjust crop sizes\n",
        "crop_center_of_frequency_range('/content/drive/My Drive/spec/yes/kathy.png', central_crop_size=(200, 200), edge_crop_size=(20, 20))"
      ]
    }
  ]
}